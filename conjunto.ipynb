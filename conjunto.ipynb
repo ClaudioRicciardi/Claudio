{
  "nbformat": 4,
  "nbformat_minor": 0,
  "metadata": {
    "colab": {
      "name": "Untitled6.ipynb",
      "provenance": [],
      "authorship_tag": "ABX9TyOwaWIR+BPPYgzD9NiOgUj0",
      "include_colab_link": true
    },
    "kernelspec": {
      "name": "python3",
      "display_name": "Python 3"
    },
    "language_info": {
      "name": "python"
    }
  },
  "cells": [
    {
      "cell_type": "markdown",
      "metadata": {
        "id": "view-in-github",
        "colab_type": "text"
      },
      "source": [
        "<a href=\"https://colab.research.google.com/github/ClaudioRicciardi/Claudio/blob/main/conjunto.ipynb\" target=\"_parent\"><img src=\"https://colab.research.google.com/assets/colab-badge.svg\" alt=\"Open In Colab\"/></a>"
      ]
    },
    {
      "cell_type": "code",
      "execution_count": 28,
      "metadata": {
        "id": "oLkuPuAy5ckh"
      },
      "outputs": [],
      "source": [
        "class Conjunto:\n",
        "     def __init__(self, conjunto=[]):\n",
        "         self.conjunto = conjunto\n",
        "         \n",
        "         \n",
        "     def __str__(self):\n",
        "         return format(self.conjunto)\n",
        "\n",
        "     def agregarElemento(self,elemento):\n",
        "       self.conjunto.append(elemento)\n",
        "\n",
        "     def sacarElemento(self,elemento):\n",
        "       self.conjunto.remove(elemento)"
      ]
    },
    {
      "cell_type": "code",
      "source": [
        "a=Conjunto([3,2])\n",
        "print(a)\n",
        "a.agregarElemento(8)\n",
        "print(a)\n",
        "a.sacarElemento(2)\n",
        "print(a)\n",
        "\n",
        "b=Conjunto([18,22])\n",
        "print(b)\n",
        "print(a)\n",
        "a.agregarElemento(44)\n",
        "print(a)\n",
        "c=Conjunto()\n",
        "print(c)\n"
      ],
      "metadata": {
        "colab": {
          "base_uri": "https://localhost:8080/"
        },
        "id": "f_TzkRCa5j1Z",
        "outputId": "d0e5b8b9-bda8-44e3-df18-e7081b2e5486"
      },
      "execution_count": 29,
      "outputs": [
        {
          "output_type": "stream",
          "name": "stdout",
          "text": [
            "[3, 2]\n",
            "[3, 2, 8]\n",
            "[3, 8]\n",
            "[18, 22]\n",
            "[3, 8]\n",
            "[3, 8, 44]\n",
            "[]\n"
          ]
        }
      ]
    },
    {
      "cell_type": "code",
      "source": [
        "class Operacione(Conjunto):\n",
        "  def __init__(self,conj1,conj2):\n",
        "    self.a1=list(conj1.conjunto)\n",
        "    self.a2=list(conj2.conjunto)\n",
        "    \n",
        "\n",
        "  def union(self):\n",
        "    for i in self.a2:\n",
        "      self.a1.append(i)\n",
        "    print(\"conjunto\",self.a1)\n",
        " \n",
        "   \n",
        "  def __str__(self):\n",
        "         return f'Operaciones({self.a1},{self.a2})'"
      ],
      "metadata": {
        "id": "RIrpwfQI5oaG"
      },
      "execution_count": 32,
      "outputs": []
    },
    {
      "cell_type": "code",
      "source": [
        "g=Operacione(a,b)\n",
        "print(g)\n",
        "g.union()"
      ],
      "metadata": {
        "colab": {
          "base_uri": "https://localhost:8080/",
          "height": 209
        },
        "id": "3VY--yU46Jip",
        "outputId": "da761d16-3d68-4153-af50-95290e4ebc4a"
      },
      "execution_count": 1,
      "outputs": [
        {
          "output_type": "error",
          "ename": "NameError",
          "evalue": "ignored",
          "traceback": [
            "\u001b[0;31m---------------------------------------------------------------------------\u001b[0m",
            "\u001b[0;31mNameError\u001b[0m                                 Traceback (most recent call last)",
            "\u001b[0;32m<ipython-input-1-627478ac4372>\u001b[0m in \u001b[0;36m<module>\u001b[0;34m\u001b[0m\n\u001b[0;32m----> 1\u001b[0;31m \u001b[0mg\u001b[0m\u001b[0;34m=\u001b[0m\u001b[0mOperacione\u001b[0m\u001b[0;34m(\u001b[0m\u001b[0ma\u001b[0m\u001b[0;34m,\u001b[0m\u001b[0mb\u001b[0m\u001b[0;34m)\u001b[0m\u001b[0;34m\u001b[0m\u001b[0;34m\u001b[0m\u001b[0m\n\u001b[0m\u001b[1;32m      2\u001b[0m \u001b[0mprint\u001b[0m\u001b[0;34m(\u001b[0m\u001b[0mg\u001b[0m\u001b[0;34m)\u001b[0m\u001b[0;34m\u001b[0m\u001b[0;34m\u001b[0m\u001b[0m\n\u001b[1;32m      3\u001b[0m \u001b[0mg\u001b[0m\u001b[0;34m.\u001b[0m\u001b[0munion\u001b[0m\u001b[0;34m(\u001b[0m\u001b[0;34m)\u001b[0m\u001b[0;34m\u001b[0m\u001b[0;34m\u001b[0m\u001b[0m\n",
            "\u001b[0;31mNameError\u001b[0m: name 'Operacione' is not defined"
          ]
        }
      ]
    }
  ]
}