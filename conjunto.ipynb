{
  "nbformat": 4,
  "nbformat_minor": 0,
  "metadata": {
    "colab": {
      "name": "Untitled6.ipynb",
      "provenance": [],
      "authorship_tag": "ABX9TyN8MDsJ6evqPI18LZCTLU9+",
      "include_colab_link": true
    },
    "kernelspec": {
      "name": "python3",
      "display_name": "Python 3"
    },
    "language_info": {
      "name": "python"
    }
  },
  "cells": [
    {
      "cell_type": "markdown",
      "metadata": {
        "id": "view-in-github",
        "colab_type": "text"
      },
      "source": [
        "<a href=\"https://colab.research.google.com/github/ClaudioRicciardi/Claudio/blob/main/conjunto.ipynb\" target=\"_parent\"><img src=\"https://colab.research.google.com/assets/colab-badge.svg\" alt=\"Open In Colab\"/></a>"
      ]
    },
    {
      "cell_type": "code",
      "execution_count": 99,
      "metadata": {
        "id": "oLkuPuAy5ckh"
      },
      "outputs": [],
      "source": [
        "class Conjunto:\n",
        "     def __init__(self, conjunto=[]):\n",
        "         self.conjunto = conjunto\n",
        "         \n",
        "         \n",
        "     def __str__(self):\n",
        "         return format(self.conjunto)\n",
        "\n",
        "     def agregarElemento(self,elemento):\n",
        "       self.conjunto.append(elemento)\n",
        "\n",
        "     def sacarElemento(self,elemento):\n",
        "       self.conjunto.remove(elemento)"
      ]
    },
    {
      "cell_type": "code",
      "source": [
        "a=Conjunto([3,2,4])\n",
        "print(a)\n",
        "a.agregarElemento(8)\n",
        "print(a)\n",
        "a.sacarElemento(2)\n",
        "print(a)\n",
        "\n",
        "b=Conjunto([18,22,4])\n",
        "print(b)\n",
        "print(a)\n",
        "a.agregarElemento(18)\n",
        "print(a)\n",
        "c=Conjunto()\n",
        "print(c)\n"
      ],
      "metadata": {
        "colab": {
          "base_uri": "https://localhost:8080/"
        },
        "id": "f_TzkRCa5j1Z",
        "outputId": "cb17c689-3437-46c7-bcee-6e0e0320c24e"
      },
      "execution_count": 100,
      "outputs": [
        {
          "output_type": "stream",
          "name": "stdout",
          "text": [
            "[3, 2, 4]\n",
            "[3, 2, 4, 8]\n",
            "[3, 4, 8]\n",
            "[18, 22, 4]\n",
            "[3, 4, 8]\n",
            "[3, 4, 8, 18]\n",
            "[]\n"
          ]
        }
      ]
    },
    {
      "cell_type": "code",
      "source": [
        "class Operacione(Conjunto):\n",
        "  def __init__(self,conj1,conj2):\n",
        "    self.a1=list(conj1.conjunto)\n",
        "    self.a2=list(conj2.conjunto)\n",
        "    self.a3=[]\n",
        "    self.a5=[]\n",
        "    self.a6=[]\n",
        "\n",
        "  def union(self):\n",
        "    self.a3.extend(self.a1)\n",
        "    self.a3.extend(self.a2)\n",
        "    result = []\n",
        "    for i in self.a3:\n",
        "      if i not in result:\n",
        "        result.append(i)\n",
        "    self.a3=result\n",
        "    print(\"union:               \",self.a3)\n",
        "\n",
        "    \n",
        "   \n",
        "  def interseccion(self):\n",
        "    self.a4=[]\n",
        "    for i in self.a2:\n",
        "      for j in self.a1:\n",
        "        if i==j:\n",
        "          self.a4.append(j)\n",
        "\n",
        "    print(\"interseccion:        \",self.a4)\n",
        "\n",
        "  ### diferencia A-B\n",
        "  def diferencia(self):\n",
        "    self.a6.extend(self.a1)\n",
        "    for i in self.a6:\n",
        "      for j in self.a4:\n",
        "        if i==j:\n",
        "          self.a6.remove(j)\n",
        "    print(\"diferencia:          \",self.a6)\n",
        "\n",
        "\n",
        "  ###  A Δ B = (A ∪ B) - (A ∩ B) \n",
        "  def diferenciaSimetrica(self):\n",
        "    self.a5=self.a3\n",
        "    for i in self.a3:\n",
        "      for j in self.a4:\n",
        "        if i==j:\n",
        "          self.a5.remove(j)\n",
        "    print(\"diferenciaSimetrica: \",self.a5)\n",
        "  \n",
        "  def tupla(self):\n",
        "    fila=[]\n",
        "    for i in self.a1:\n",
        "      for j in self.a2:\n",
        "        print(i,j)\n",
        "        \n",
        "      print(i)\n",
        "   \n",
        "  def __str__(self):\n",
        "         return f'Conjuntos ({self.a1},{self.a2})'\n",
        "   "
      ],
      "metadata": {
        "id": "RIrpwfQI5oaG"
      },
      "execution_count": 200,
      "outputs": []
    },
    {
      "cell_type": "code",
      "source": [
        "g=Operacione(a,b)\n",
        "print(g)\n",
        "g.union()\n",
        "g.interseccion()\n",
        "g.diferencia()\n",
        "g.diferenciaSimetrica()\n",
        "g.tupla()"
      ],
      "metadata": {
        "colab": {
          "base_uri": "https://localhost:8080/"
        },
        "id": "iTBj8kAJxtCl",
        "outputId": "2ec9a9c8-f226-4e76-ad3d-335a79b8b16b"
      },
      "execution_count": 201,
      "outputs": [
        {
          "output_type": "stream",
          "name": "stdout",
          "text": [
            "Conjuntos ([3, 4, 8, 18],[18, 22, 4])\n",
            "union:                [3, 4, 8, 18, 22]\n",
            "interseccion:         [18, 4]\n",
            "diferencia:           [3, 8]\n",
            "diferenciaSimetrica:  [3, 8, 22]\n",
            "3 18\n",
            "3 22\n",
            "3 4\n",
            "3\n",
            "4 18\n",
            "4 22\n",
            "4 4\n",
            "4\n",
            "8 18\n",
            "8 22\n",
            "8 4\n",
            "8\n",
            "18 18\n",
            "18 22\n",
            "18 4\n",
            "18\n"
          ]
        }
      ]
    }
  ]
}